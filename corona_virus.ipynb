{
 "cells": [
  {
   "cell_type": "markdown",
   "metadata": {},
   "source": [
    "# Data Science Coronavírus\n",
    "\n",
    "### Importando as bibliotecas para processamento"
   ]
  },
  {
   "cell_type": "code",
   "execution_count": 1,
   "metadata": {},
   "outputs": [],
   "source": [
    "import pandas as pd\n",
    "import numpy as np"
   ]
  },
  {
   "cell_type": "markdown",
   "metadata": {},
   "source": [
    "### Armazenando os Links do Dataset em uma Lista"
   ]
  },
  {
   "cell_type": "code",
   "execution_count": 2,
   "metadata": {},
   "outputs": [],
   "source": [
    "#Base de dados\n",
    "#https://github.com/CSSEGISandData/COVID-19/tree/master/csse_covid_19_data?fbclid=IwAR1C6Cf_k5bpeEF5v1I9G-OlXeMZd0B1JreUw4ayc5tuOLYVSKvyunFaam8\n",
    "\n",
    "base_url = 'https://raw.githubusercontent.com/CSSEGISandData/COVID-19/master/csse_covid_19_data/csse_covid_19_daily_reports'\n",
    "lista_links = []\n",
    "#Pegando os links do mês de janeiro\n",
    "for c in range(22, 32):\n",
    "    lista_links.append(str(base_url+f'/01-{c}-2020.csv'))\n",
    "#Pegando os links do mês de fevereiro\n",
    "for c in range(1, 30):\n",
    "    if c <= 9:\n",
    "        lista_links.append(str(base_url+f'/02-0{c}-2020.csv'))\n",
    "    else:\n",
    "        lista_links.append(str(base_url+f'/02-{c}-2020.csv'))\n",
    "#Pegando os links do mês de março\n",
    "for c in range(1, 4):\n",
    "    if c <= 9:\n",
    "        lista_links.append(str(base_url+f'/03-0{c}-2020.csv'))\n",
    "    else:\n",
    "        lista_links.append(str(base_url+f'/03-{c}-2020.csv'))"
   ]
  },
  {
   "cell_type": "markdown",
   "metadata": {},
   "source": [
    "### Convertendo os Links em um Dataframe e Armazenando em uma Lista"
   ]
  },
  {
   "cell_type": "code",
   "execution_count": 3,
   "metadata": {},
   "outputs": [],
   "source": [
    "lista = []\n",
    "for c in lista_links:\n",
    "    dados = pd.read_csv(c)\n",
    "    np.array(dados)\n",
    "    lista.append(dados)"
   ]
  },
  {
   "cell_type": "markdown",
   "metadata": {},
   "source": [
    "### Visualizando e Descrevendo os Dados "
   ]
  },
  {
   "cell_type": "code",
   "execution_count": 4,
   "metadata": {},
   "outputs": [
    {
     "data": {
      "text/html": [
       "<div>\n",
       "<style scoped>\n",
       "    .dataframe tbody tr th:only-of-type {\n",
       "        vertical-align: middle;\n",
       "    }\n",
       "\n",
       "    .dataframe tbody tr th {\n",
       "        vertical-align: top;\n",
       "    }\n",
       "\n",
       "    .dataframe thead th {\n",
       "        text-align: right;\n",
       "    }\n",
       "</style>\n",
       "<table border=\"1\" class=\"dataframe\">\n",
       "  <thead>\n",
       "    <tr style=\"text-align: right;\">\n",
       "      <th></th>\n",
       "      <th>Province/State</th>\n",
       "      <th>Country/Region</th>\n",
       "      <th>Last Update</th>\n",
       "      <th>Confirmed</th>\n",
       "      <th>Deaths</th>\n",
       "      <th>Recovered</th>\n",
       "    </tr>\n",
       "  </thead>\n",
       "  <tbody>\n",
       "    <tr>\n",
       "      <td>0</td>\n",
       "      <td>Anhui</td>\n",
       "      <td>Mainland China</td>\n",
       "      <td>1/22/2020 17:00</td>\n",
       "      <td>1.0</td>\n",
       "      <td>NaN</td>\n",
       "      <td>NaN</td>\n",
       "    </tr>\n",
       "    <tr>\n",
       "      <td>1</td>\n",
       "      <td>Beijing</td>\n",
       "      <td>Mainland China</td>\n",
       "      <td>1/22/2020 17:00</td>\n",
       "      <td>14.0</td>\n",
       "      <td>NaN</td>\n",
       "      <td>NaN</td>\n",
       "    </tr>\n",
       "    <tr>\n",
       "      <td>2</td>\n",
       "      <td>Chongqing</td>\n",
       "      <td>Mainland China</td>\n",
       "      <td>1/22/2020 17:00</td>\n",
       "      <td>6.0</td>\n",
       "      <td>NaN</td>\n",
       "      <td>NaN</td>\n",
       "    </tr>\n",
       "    <tr>\n",
       "      <td>3</td>\n",
       "      <td>Fujian</td>\n",
       "      <td>Mainland China</td>\n",
       "      <td>1/22/2020 17:00</td>\n",
       "      <td>1.0</td>\n",
       "      <td>NaN</td>\n",
       "      <td>NaN</td>\n",
       "    </tr>\n",
       "    <tr>\n",
       "      <td>4</td>\n",
       "      <td>Gansu</td>\n",
       "      <td>Mainland China</td>\n",
       "      <td>1/22/2020 17:00</td>\n",
       "      <td>NaN</td>\n",
       "      <td>NaN</td>\n",
       "      <td>NaN</td>\n",
       "    </tr>\n",
       "  </tbody>\n",
       "</table>\n",
       "</div>"
      ],
      "text/plain": [
       "  Province/State  Country/Region      Last Update  Confirmed  Deaths  \\\n",
       "0          Anhui  Mainland China  1/22/2020 17:00        1.0     NaN   \n",
       "1        Beijing  Mainland China  1/22/2020 17:00       14.0     NaN   \n",
       "2      Chongqing  Mainland China  1/22/2020 17:00        6.0     NaN   \n",
       "3         Fujian  Mainland China  1/22/2020 17:00        1.0     NaN   \n",
       "4          Gansu  Mainland China  1/22/2020 17:00        NaN     NaN   \n",
       "\n",
       "   Recovered  \n",
       "0        NaN  \n",
       "1        NaN  \n",
       "2        NaN  \n",
       "3        NaN  \n",
       "4        NaN  "
      ]
     },
     "execution_count": 4,
     "metadata": {},
     "output_type": "execute_result"
    }
   ],
   "source": [
    "#Vamos visualizar uma tabela individualmente para observamos as suas colunas \n",
    "lista[0].head()"
   ]
  },
  {
   "cell_type": "code",
   "execution_count": 5,
   "metadata": {},
   "outputs": [
    {
     "name": "stdout",
     "output_type": "stream",
     "text": [
      "<class 'pandas.core.frame.DataFrame'>\n",
      "RangeIndex: 38 entries, 0 to 37\n",
      "Data columns (total 6 columns):\n",
      "Province/State    35 non-null object\n",
      "Country/Region    38 non-null object\n",
      "Last Update       38 non-null object\n",
      "Confirmed         29 non-null float64\n",
      "Deaths            1 non-null float64\n",
      "Recovered         1 non-null float64\n",
      "dtypes: float64(3), object(3)\n",
      "memory usage: 1.9+ KB\n"
     ]
    }
   ],
   "source": [
    "lista[0].info()"
   ]
  },
  {
   "cell_type": "code",
   "execution_count": 6,
   "metadata": {},
   "outputs": [
    {
     "data": {
      "text/html": [
       "<div>\n",
       "<style scoped>\n",
       "    .dataframe tbody tr th:only-of-type {\n",
       "        vertical-align: middle;\n",
       "    }\n",
       "\n",
       "    .dataframe tbody tr th {\n",
       "        vertical-align: top;\n",
       "    }\n",
       "\n",
       "    .dataframe thead th {\n",
       "        text-align: right;\n",
       "    }\n",
       "</style>\n",
       "<table border=\"1\" class=\"dataframe\">\n",
       "  <thead>\n",
       "    <tr style=\"text-align: right;\">\n",
       "      <th></th>\n",
       "      <th>Confirmed</th>\n",
       "      <th>Deaths</th>\n",
       "      <th>Recovered</th>\n",
       "    </tr>\n",
       "  </thead>\n",
       "  <tbody>\n",
       "    <tr>\n",
       "      <td>count</td>\n",
       "      <td>29.00</td>\n",
       "      <td>1.0</td>\n",
       "      <td>1.0</td>\n",
       "    </tr>\n",
       "    <tr>\n",
       "      <td>mean</td>\n",
       "      <td>19.14</td>\n",
       "      <td>17.0</td>\n",
       "      <td>28.0</td>\n",
       "    </tr>\n",
       "    <tr>\n",
       "      <td>std</td>\n",
       "      <td>81.88</td>\n",
       "      <td>NaN</td>\n",
       "      <td>NaN</td>\n",
       "    </tr>\n",
       "    <tr>\n",
       "      <td>min</td>\n",
       "      <td>1.00</td>\n",
       "      <td>17.0</td>\n",
       "      <td>28.0</td>\n",
       "    </tr>\n",
       "    <tr>\n",
       "      <td>25%</td>\n",
       "      <td>1.00</td>\n",
       "      <td>17.0</td>\n",
       "      <td>28.0</td>\n",
       "    </tr>\n",
       "    <tr>\n",
       "      <td>50%</td>\n",
       "      <td>2.00</td>\n",
       "      <td>17.0</td>\n",
       "      <td>28.0</td>\n",
       "    </tr>\n",
       "    <tr>\n",
       "      <td>75%</td>\n",
       "      <td>5.00</td>\n",
       "      <td>17.0</td>\n",
       "      <td>28.0</td>\n",
       "    </tr>\n",
       "    <tr>\n",
       "      <td>max</td>\n",
       "      <td>444.00</td>\n",
       "      <td>17.0</td>\n",
       "      <td>28.0</td>\n",
       "    </tr>\n",
       "  </tbody>\n",
       "</table>\n",
       "</div>"
      ],
      "text/plain": [
       "       Confirmed  Deaths  Recovered\n",
       "count      29.00     1.0        1.0\n",
       "mean       19.14    17.0       28.0\n",
       "std        81.88     NaN        NaN\n",
       "min         1.00    17.0       28.0\n",
       "25%         1.00    17.0       28.0\n",
       "50%         2.00    17.0       28.0\n",
       "75%         5.00    17.0       28.0\n",
       "max       444.00    17.0       28.0"
      ]
     },
     "execution_count": 6,
     "metadata": {},
     "output_type": "execute_result"
    }
   ],
   "source": [
    "round(lista[0].describe(),2)"
   ]
  },
  {
   "cell_type": "markdown",
   "metadata": {},
   "source": [
    "### Criando as Listas que serão utilizadas para plotar o gráfico"
   ]
  },
  {
   "cell_type": "code",
   "execution_count": 7,
   "metadata": {},
   "outputs": [],
   "source": [
    "lista_mortos = []\n",
    "lista_casos_confirmados = []\n",
    "lista_recuperados = []\n",
    "\n",
    "for c in range(0,len(lista)):\n",
    "    lista_mortos.append((lista[c]['Deaths']).sum())\n",
    "    lista_casos_confirmados.append((lista[c]['Confirmed']).sum())\n",
    "    lista_recuperados.append((lista[c]['Recovered']).sum())"
   ]
  },
  {
   "cell_type": "markdown",
   "metadata": {},
   "source": [
    "### Plotando o Gráfico"
   ]
  },
  {
   "cell_type": "code",
   "execution_count": 8,
   "metadata": {
    "scrolled": false
   },
   "outputs": [
    {
     "data": {
      "image/png": "[encoded data removed]",
      "text/plain": [
       "<Figure size 748.8x514.8 with 1 Axes>"
      ]
     },
     "metadata": {
      "needs_background": "light"
     },
     "output_type": "display_data"
    }
   ],
   "source": [
    "import matplotlib.pyplot as plt\n",
    "x = [i for i in range(0, len(lista_mortos))]\n",
    "plt.style.use('seaborn-talk')\n",
    "y_mortos = lista_mortos\n",
    "y_casos_confirmados = lista_casos_confirmados\n",
    "y_recuperados = lista_recuperados\n",
    "plt.plot(x, y_mortos, color='red', label='Número de Mortos', linewidth=3.0)\n",
    "plt.plot(x, y_casos_confirmados, color='green', label='Casos Confirmados', linewidth=3.0)\n",
    "plt.plot(x, y_recuperados, color='blue', label='Curados', linewidth=3.0)\n",
    "plt.xlabel('Dias desde o 1° caso')\n",
    "plt.ylabel('Número de indivíduos')\n",
    "plt.title('Evolução do Corona Vírus no Mundo')\n",
    "#fig = plt.gcf()\n",
    "#fig.set_size_inches(10, 8)\n",
    "plt.grid(True)\n",
    "plt.legend(loc='upper center')\n",
    "plt.savefig('corona.png')\n",
    "plt.show()\n"
   ]
  },
  {
   "cell_type": "markdown",
   "metadata": {},
   "source": [
    "### Estilos Disponíveis"
   ]
  },
  {
   "cell_type": "code",
   "execution_count": 9,
   "metadata": {},
   "outputs": [
    {
     "data": {
      "text/plain": [
       "array([['bmh', 'classic', 'dark_background', 'fast', 'fivethirtyeight',\n",
       "        'ggplot', 'grayscale', 'seaborn-bright', 'seaborn-colorblind',\n",
       "        'seaborn-dark-palette', 'seaborn-dark', 'seaborn-darkgrid',\n",
       "        'seaborn-deep', 'seaborn-muted', 'seaborn-notebook',\n",
       "        'seaborn-paper', 'seaborn-pastel', 'seaborn-poster',\n",
       "        'seaborn-talk', 'seaborn-ticks', 'seaborn-white',\n",
       "        'seaborn-whitegrid', 'seaborn', 'Solarize_Light2',\n",
       "        'tableau-colorblind10', '_classic_test']], dtype='<U20')"
      ]
     },
     "execution_count": 9,
     "metadata": {},
     "output_type": "execute_result"
    }
   ],
   "source": [
    "#Para consultar os estilos disponíveis, rode esse código\n",
    "np.reshape(plt.style.available, (1,-1))"
   ]
  },
  {
   "cell_type": "markdown",
   "metadata": {},
   "source": [
    "### Criando outro Dataframe com os dados mais atuais"
   ]
  },
  {
   "cell_type": "code",
   "execution_count": 10,
   "metadata": {},
   "outputs": [],
   "source": [
    "dados_atuais = {'Número de Mortos':y_mortos[len(y_mortos)-1],\n",
    "                'Casos Confirmados':y_casos_confirmados[len(y_casos_confirmados)-1],\n",
    "                'Curados':y_recuperados[len(y_recuperados)-1]}"
   ]
  },
  {
   "cell_type": "code",
   "execution_count": 11,
   "metadata": {},
   "outputs": [],
   "source": [
    "dados_atuais = pd.DataFrame([dados_atuais])"
   ]
  },
  {
   "cell_type": "code",
   "execution_count": 12,
   "metadata": {},
   "outputs": [
    {
     "data": {
      "text/html": [
       "<div>\n",
       "<style scoped>\n",
       "    .dataframe tbody tr th:only-of-type {\n",
       "        vertical-align: middle;\n",
       "    }\n",
       "\n",
       "    .dataframe tbody tr th {\n",
       "        vertical-align: top;\n",
       "    }\n",
       "\n",
       "    .dataframe thead th {\n",
       "        text-align: right;\n",
       "    }\n",
       "</style>\n",
       "<table border=\"1\" class=\"dataframe\">\n",
       "  <thead>\n",
       "    <tr style=\"text-align: right;\">\n",
       "      <th></th>\n",
       "      <th>Número de Mortos</th>\n",
       "      <th>Casos Confirmados</th>\n",
       "      <th>Curados</th>\n",
       "    </tr>\n",
       "  </thead>\n",
       "  <tbody>\n",
       "    <tr>\n",
       "      <td>0</td>\n",
       "      <td>3160</td>\n",
       "      <td>92844</td>\n",
       "      <td>48229</td>\n",
       "    </tr>\n",
       "  </tbody>\n",
       "</table>\n",
       "</div>"
      ],
      "text/plain": [
       "   Número de Mortos  Casos Confirmados  Curados\n",
       "0              3160              92844    48229"
      ]
     },
     "execution_count": 12,
     "metadata": {},
     "output_type": "execute_result"
    }
   ],
   "source": [
    "dados_atuais"
   ]
  },
  {
   "cell_type": "markdown",
   "metadata": {},
   "source": [
    "### Calculando a Taxa de Mortalidade do Vírus"
   ]
  },
  {
   "cell_type": "code",
   "execution_count": 13,
   "metadata": {},
   "outputs": [
    {
     "data": {
      "text/html": [
       "<div>\n",
       "<style scoped>\n",
       "    .dataframe tbody tr th:only-of-type {\n",
       "        vertical-align: middle;\n",
       "    }\n",
       "\n",
       "    .dataframe tbody tr th {\n",
       "        vertical-align: top;\n",
       "    }\n",
       "\n",
       "    .dataframe thead th {\n",
       "        text-align: right;\n",
       "    }\n",
       "</style>\n",
       "<table border=\"1\" class=\"dataframe\">\n",
       "  <thead>\n",
       "    <tr style=\"text-align: right;\">\n",
       "      <th></th>\n",
       "      <th>Número de Mortos</th>\n",
       "      <th>Casos Confirmados</th>\n",
       "      <th>Curados</th>\n",
       "      <th>Taxa_Mortalidade(%)</th>\n",
       "    </tr>\n",
       "  </thead>\n",
       "  <tbody>\n",
       "    <tr>\n",
       "      <td>0</td>\n",
       "      <td>3160</td>\n",
       "      <td>92844</td>\n",
       "      <td>48229</td>\n",
       "      <td>3.403559</td>\n",
       "    </tr>\n",
       "  </tbody>\n",
       "</table>\n",
       "</div>"
      ],
      "text/plain": [
       "   Número de Mortos  Casos Confirmados  Curados  Taxa_Mortalidade(%)\n",
       "0              3160              92844    48229             3.403559"
      ]
     },
     "execution_count": 13,
     "metadata": {},
     "output_type": "execute_result"
    }
   ],
   "source": [
    "#Taxa de Mortalidade do vírus\n",
    "dados_atuais['Taxa_Mortalidade(%)'] = (dados_atuais['Número de Mortos']/dados_atuais['Casos Confirmados'])*100\n",
    "dados_atuais"
   ]
  },
  {
   "cell_type": "markdown",
   "metadata": {},
   "source": [
    "### Criando um Mapa de Calor com alguns lugares afetados pelo Vírus"
   ]
  },
  {
   "cell_type": "code",
   "execution_count": 14,
   "metadata": {},
   "outputs": [],
   "source": [
    "import folium\n",
    "from folium.plugins import HeatMap\n",
    "mapa = folium.Map(location=[10,10],zoom_start=1.5,tiles='Stamen Toner')\n",
    "locais = []\n",
    "\n",
    "for x,i in zip(lista[len(lista)-1]['Latitude'], lista[len(lista)-1]['Longitude']):\n",
    "    temp = [x,i]\n",
    "    locais.append(temp)\n",
    "HeatMap(locais, radius=20).add_to(mapa)\n",
    "mapa.save('corona_mapa.html')"
   ]
  },
  {
   "cell_type": "code",
   "execution_count": 15,
   "metadata": {},
   "outputs": [
    {
     "data": {
      "text/html": [
       "<div style=\"width:100%;\"><div style=\"position:relative;width:100%;height:0;padding-bottom:60%;\"><iframe src=\"data:text/html;charset=utf-8;base64,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\" style=\"position:absolute;width:100%;height:100%;left:0;top:0;border:none !important;\" allowfullscreen webkitallowfullscreen mozallowfullscreen></iframe></div></div>"
      ],
      "text/plain": [
       "<folium.folium.Map at 0x15d69b75148>"
      ]
     },
     "execution_count": 15,
     "metadata": {},
     "output_type": "execute_result"
    }
   ],
   "source": [
    "mapa"
   ]
  }
 ],
 "metadata": {
  "kernelspec": {
   "display_name": "Python 3",
   "language": "python",
   "name": "python3"
  },
  "language_info": {
   "codemirror_mode": {
    "name": "ipython",
    "version": 3
   },
   "file_extension": ".py",
   "mimetype": "text/x-python",
   "name": "python",
   "nbconvert_exporter": "python",
   "pygments_lexer": "ipython3",
   "version": "3.7.6"
  }
 },
 "nbformat": 4,
 "nbformat_minor": 4
}
